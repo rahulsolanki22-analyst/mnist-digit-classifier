{
 "cells": [
  {
   "cell_type": "code",
   "execution_count": null,
   "metadata": {
    "_cell_guid": "b1076dfc-b9ad-4769-8c92-a6c4dae69d19",
    "_uuid": "8f2839f25d086af736a60e9eeb907d3b93b6e0e5",
    "execution": {
     "iopub.execute_input": "2025-05-29T17:57:57.742242Z",
     "iopub.status.busy": "2025-05-29T17:57:57.741917Z",
     "iopub.status.idle": "2025-05-29T17:57:58.088948Z",
     "shell.execute_reply": "2025-05-29T17:57:58.088007Z",
     "shell.execute_reply.started": "2025-05-29T17:57:57.742186Z"
    },
    "trusted": true
   },
   "outputs": [
    {
     "name": "stdout",
     "output_type": "stream",
     "text": [
      "/kaggle/input/mnist-digit-recognizer/train.csv\n"
     ]
    }
   ],
   "source": [
    "\n",
    "\n",
    "import numpy as np \n",
    "import pandas as pd \n",
    "\n",
    "\n",
    "\n",
    "import os\n",
    "for dirname, _, filenames in os.walk('/kaggle/input'):\n",
    "    for filename in filenames:\n",
    "        print(os.path.join(dirname, filename))\n",
    "\n",
    "import math\n",
    "from matplotlib import pyplot as plt\n"
   ]
  },
  {
   "cell_type": "code",
   "execution_count": 4,
   "metadata": {
    "execution": {
     "iopub.execute_input": "2025-05-29T17:57:58.643388Z",
     "iopub.status.busy": "2025-05-29T17:57:58.642893Z",
     "iopub.status.idle": "2025-05-29T17:58:02.831669Z",
     "shell.execute_reply": "2025-05-29T17:58:02.830913Z",
     "shell.execute_reply.started": "2025-05-29T17:57:58.643361Z"
    },
    "trusted": true
   },
   "outputs": [],
   "source": [
    "data = pd.read_csv('/kaggle/input/mnist-digit-recognizer/train.csv')"
   ]
  },
  {
   "cell_type": "code",
   "execution_count": 5,
   "metadata": {
    "execution": {
     "iopub.execute_input": "2025-05-29T17:58:02.833387Z",
     "iopub.status.busy": "2025-05-29T17:58:02.833051Z",
     "iopub.status.idle": "2025-05-29T17:58:02.863801Z",
     "shell.execute_reply": "2025-05-29T17:58:02.863032Z",
     "shell.execute_reply.started": "2025-05-29T17:58:02.833352Z"
    },
    "trusted": true
   },
   "outputs": [
    {
     "data": {
      "text/html": [
       "<div>\n",
       "<style scoped>\n",
       "    .dataframe tbody tr th:only-of-type {\n",
       "        vertical-align: middle;\n",
       "    }\n",
       "\n",
       "    .dataframe tbody tr th {\n",
       "        vertical-align: top;\n",
       "    }\n",
       "\n",
       "    .dataframe thead th {\n",
       "        text-align: right;\n",
       "    }\n",
       "</style>\n",
       "<table border=\"1\" class=\"dataframe\">\n",
       "  <thead>\n",
       "    <tr style=\"text-align: right;\">\n",
       "      <th></th>\n",
       "      <th>label</th>\n",
       "      <th>pixel0</th>\n",
       "      <th>pixel1</th>\n",
       "      <th>pixel2</th>\n",
       "      <th>pixel3</th>\n",
       "      <th>pixel4</th>\n",
       "      <th>pixel5</th>\n",
       "      <th>pixel6</th>\n",
       "      <th>pixel7</th>\n",
       "      <th>pixel8</th>\n",
       "      <th>...</th>\n",
       "      <th>pixel774</th>\n",
       "      <th>pixel775</th>\n",
       "      <th>pixel776</th>\n",
       "      <th>pixel777</th>\n",
       "      <th>pixel778</th>\n",
       "      <th>pixel779</th>\n",
       "      <th>pixel780</th>\n",
       "      <th>pixel781</th>\n",
       "      <th>pixel782</th>\n",
       "      <th>pixel783</th>\n",
       "    </tr>\n",
       "  </thead>\n",
       "  <tbody>\n",
       "    <tr>\n",
       "      <th>0</th>\n",
       "      <td>1</td>\n",
       "      <td>0</td>\n",
       "      <td>0</td>\n",
       "      <td>0</td>\n",
       "      <td>0</td>\n",
       "      <td>0</td>\n",
       "      <td>0</td>\n",
       "      <td>0</td>\n",
       "      <td>0</td>\n",
       "      <td>0</td>\n",
       "      <td>...</td>\n",
       "      <td>0</td>\n",
       "      <td>0</td>\n",
       "      <td>0</td>\n",
       "      <td>0</td>\n",
       "      <td>0</td>\n",
       "      <td>0</td>\n",
       "      <td>0</td>\n",
       "      <td>0</td>\n",
       "      <td>0</td>\n",
       "      <td>0</td>\n",
       "    </tr>\n",
       "    <tr>\n",
       "      <th>1</th>\n",
       "      <td>0</td>\n",
       "      <td>0</td>\n",
       "      <td>0</td>\n",
       "      <td>0</td>\n",
       "      <td>0</td>\n",
       "      <td>0</td>\n",
       "      <td>0</td>\n",
       "      <td>0</td>\n",
       "      <td>0</td>\n",
       "      <td>0</td>\n",
       "      <td>...</td>\n",
       "      <td>0</td>\n",
       "      <td>0</td>\n",
       "      <td>0</td>\n",
       "      <td>0</td>\n",
       "      <td>0</td>\n",
       "      <td>0</td>\n",
       "      <td>0</td>\n",
       "      <td>0</td>\n",
       "      <td>0</td>\n",
       "      <td>0</td>\n",
       "    </tr>\n",
       "    <tr>\n",
       "      <th>2</th>\n",
       "      <td>1</td>\n",
       "      <td>0</td>\n",
       "      <td>0</td>\n",
       "      <td>0</td>\n",
       "      <td>0</td>\n",
       "      <td>0</td>\n",
       "      <td>0</td>\n",
       "      <td>0</td>\n",
       "      <td>0</td>\n",
       "      <td>0</td>\n",
       "      <td>...</td>\n",
       "      <td>0</td>\n",
       "      <td>0</td>\n",
       "      <td>0</td>\n",
       "      <td>0</td>\n",
       "      <td>0</td>\n",
       "      <td>0</td>\n",
       "      <td>0</td>\n",
       "      <td>0</td>\n",
       "      <td>0</td>\n",
       "      <td>0</td>\n",
       "    </tr>\n",
       "    <tr>\n",
       "      <th>3</th>\n",
       "      <td>4</td>\n",
       "      <td>0</td>\n",
       "      <td>0</td>\n",
       "      <td>0</td>\n",
       "      <td>0</td>\n",
       "      <td>0</td>\n",
       "      <td>0</td>\n",
       "      <td>0</td>\n",
       "      <td>0</td>\n",
       "      <td>0</td>\n",
       "      <td>...</td>\n",
       "      <td>0</td>\n",
       "      <td>0</td>\n",
       "      <td>0</td>\n",
       "      <td>0</td>\n",
       "      <td>0</td>\n",
       "      <td>0</td>\n",
       "      <td>0</td>\n",
       "      <td>0</td>\n",
       "      <td>0</td>\n",
       "      <td>0</td>\n",
       "    </tr>\n",
       "    <tr>\n",
       "      <th>4</th>\n",
       "      <td>0</td>\n",
       "      <td>0</td>\n",
       "      <td>0</td>\n",
       "      <td>0</td>\n",
       "      <td>0</td>\n",
       "      <td>0</td>\n",
       "      <td>0</td>\n",
       "      <td>0</td>\n",
       "      <td>0</td>\n",
       "      <td>0</td>\n",
       "      <td>...</td>\n",
       "      <td>0</td>\n",
       "      <td>0</td>\n",
       "      <td>0</td>\n",
       "      <td>0</td>\n",
       "      <td>0</td>\n",
       "      <td>0</td>\n",
       "      <td>0</td>\n",
       "      <td>0</td>\n",
       "      <td>0</td>\n",
       "      <td>0</td>\n",
       "    </tr>\n",
       "  </tbody>\n",
       "</table>\n",
       "<p>5 rows × 785 columns</p>\n",
       "</div>"
      ],
      "text/plain": [
       "   label  pixel0  pixel1  pixel2  pixel3  pixel4  pixel5  pixel6  pixel7  \\\n",
       "0      1       0       0       0       0       0       0       0       0   \n",
       "1      0       0       0       0       0       0       0       0       0   \n",
       "2      1       0       0       0       0       0       0       0       0   \n",
       "3      4       0       0       0       0       0       0       0       0   \n",
       "4      0       0       0       0       0       0       0       0       0   \n",
       "\n",
       "   pixel8  ...  pixel774  pixel775  pixel776  pixel777  pixel778  pixel779  \\\n",
       "0       0  ...         0         0         0         0         0         0   \n",
       "1       0  ...         0         0         0         0         0         0   \n",
       "2       0  ...         0         0         0         0         0         0   \n",
       "3       0  ...         0         0         0         0         0         0   \n",
       "4       0  ...         0         0         0         0         0         0   \n",
       "\n",
       "   pixel780  pixel781  pixel782  pixel783  \n",
       "0         0         0         0         0  \n",
       "1         0         0         0         0  \n",
       "2         0         0         0         0  \n",
       "3         0         0         0         0  \n",
       "4         0         0         0         0  \n",
       "\n",
       "[5 rows x 785 columns]"
      ]
     },
     "execution_count": 5,
     "metadata": {},
     "output_type": "execute_result"
    }
   ],
   "source": [
    "data.head()"
   ]
  },
  {
   "cell_type": "code",
   "execution_count": 7,
   "metadata": {
    "execution": {
     "iopub.execute_input": "2025-05-29T17:58:06.015269Z",
     "iopub.status.busy": "2025-05-29T17:58:06.014867Z",
     "iopub.status.idle": "2025-05-29T17:58:06.800034Z",
     "shell.execute_reply": "2025-05-29T17:58:06.799146Z",
     "shell.execute_reply.started": "2025-05-29T17:58:06.015190Z"
    },
    "trusted": true
   },
   "outputs": [],
   "source": [
    "data = np.array(data)\n",
    "m,n= data.shape\n",
    "np.random.shuffle(data)\n",
    "\n",
    "data_dev = data[0:1000].T\n",
    "y_dev = data_dev[0]\n",
    "x_dev = data_dev[1:n]\n",
    "x_dev = x_dev/255\n",
    "\n",
    "data_train=data[1000:m].T\n",
    "y_train=data_train[0]\n",
    "x_train = data_train[1:n]\n",
    "x_train = x_train / 255.\n",
    "_,m_train = x_train.shape"
   ]
  },
  {
   "cell_type": "code",
   "execution_count": 8,
   "metadata": {
    "execution": {
     "iopub.execute_input": "2025-05-29T17:58:07.589916Z",
     "iopub.status.busy": "2025-05-29T17:58:07.589169Z",
     "iopub.status.idle": "2025-05-29T17:58:07.595977Z",
     "shell.execute_reply": "2025-05-29T17:58:07.595089Z",
     "shell.execute_reply.started": "2025-05-29T17:58:07.589888Z"
    },
    "trusted": true
   },
   "outputs": [
    {
     "data": {
      "text/plain": [
       "(784,)"
      ]
     },
     "execution_count": 8,
     "metadata": {},
     "output_type": "execute_result"
    }
   ],
   "source": [
    "x_train[:,0].shape"
   ]
  },
  {
   "cell_type": "markdown",
   "metadata": {},
   "source": [
    "# dot() used for matrix multiplication cz W1 is an array"
   ]
  },
  {
   "cell_type": "markdown",
   "metadata": {},
   "source": [
    "# One_hot is used for making a label to matrix \n"
   ]
  },
  {
   "cell_type": "markdown",
   "metadata": {},
   "source": []
  },
  {
   "cell_type": "code",
   "execution_count": 9,
   "metadata": {
    "execution": {
     "iopub.execute_input": "2025-05-29T17:58:10.164643Z",
     "iopub.status.busy": "2025-05-29T17:58:10.164253Z",
     "iopub.status.idle": "2025-05-29T17:58:10.180014Z",
     "shell.execute_reply": "2025-05-29T17:58:10.178945Z",
     "shell.execute_reply.started": "2025-05-29T17:58:10.164613Z"
    },
    "trusted": true
   },
   "outputs": [],
   "source": [
    "def init_params():\n",
    "    W1=np.random.randn(10,784)* np.sqrt(2/784)\n",
    "    b1=np.random.randn(10,1)-0.5\n",
    "    W2=np.random.randn(10,10)*np.sqrt(2/10)\n",
    "    b2=np.random.randn(10,1)-0.5\n",
    "    return W1, b1,W2,b2\n",
    "\n",
    "def ReLU(Z):\n",
    "    return np.maximum(0, Z)\n",
    "\n",
    "def softmax(Z):\n",
    "    exp_Z = np.exp(Z - np.max(Z, axis=0, keepdims=True))\n",
    "    return exp_Z / np.sum(exp_Z, axis=0, keepdims=True)\n",
    "\n",
    "def forward_prop(W1, b1, W2,b2, X):\n",
    "    Z1 = W1.dot(X)+ b1\n",
    "    A1 = ReLU(Z1)\n",
    "    Z2 = W2.dot(A1)+ b2\n",
    "    A2 = softmax(Z2)\n",
    "    return Z1 , A1 , Z2 ,A2\n",
    "\n",
    "def one_hot(Y):\n",
    "    one_hot_Y= np.zeros((Y.size, Y.max() + 1))\n",
    "    one_hot_Y[np.arange(Y.size), Y] = 1\n",
    "    one_hot_Y=one_hot_Y.T\n",
    "    return one_hot_Y\n",
    "\n",
    "def deriv_ReLU(Z):\n",
    "    return Z > 0\n",
    "    \n",
    "def back_prop(Z1, A1,Z2, A2,W1, W2,X, Y):\n",
    "    m = Y.shape[0]\n",
    "    one_hot_Y = one_hot(Y)\n",
    "    \n",
    "    dZ2 = A2 - one_hot_Y\n",
    "    dW2 = (1/m) * dZ2.dot(A1.T)\n",
    "    db2 = (1/m) * np.sum(dZ2, axis=1, keepdims=True)\n",
    "    \n",
    "    dZ1 = W2.T.dot(dZ2) * deriv_ReLU(Z1)\n",
    "    dW1 = (1/m) * dZ1.dot(X.T)\n",
    "    db1 = (1/m) * np.sum(dZ1, axis=1, keepdims=True)\n",
    "    return dW1, db1, dW2, db2\n",
    "\n",
    "def update_params(W1, b1, W2, b2, dW1, db1, dW2, db2,alpha):\n",
    "    W1 = W1 - alpha * dW1\n",
    "    b1 = b1 - alpha * db1\n",
    "    W2 = W2 - alpha * dW2\n",
    "    b2 = b2 - alpha * db2\n",
    "    return W1,b1,W2,b2"
   ]
  },
  {
   "cell_type": "code",
   "execution_count": 10,
   "metadata": {
    "execution": {
     "iopub.execute_input": "2025-05-29T17:58:11.999938Z",
     "iopub.status.busy": "2025-05-29T17:58:11.999639Z",
     "iopub.status.idle": "2025-05-29T17:58:12.006944Z",
     "shell.execute_reply": "2025-05-29T17:58:12.005778Z",
     "shell.execute_reply.started": "2025-05-29T17:58:11.999915Z"
    },
    "trusted": true
   },
   "outputs": [],
   "source": [
    "def get_predictions(A2):\n",
    "    return np.argmax(A2, 0)\n",
    "\n",
    "def get_accuracy(predictions, Y):\n",
    "    print(predictions, Y)\n",
    "    return np.sum(predictions == Y) / Y.size\n",
    "\n",
    "def gradient_descent(X, Y, alpha, iterations):\n",
    "    W1, b1, W2, b2 = init_params()\n",
    "    for i in range(iterations):\n",
    "        Z1, A1, Z2, A2 = forward_prop(W1, b1, W2, b2, X)\n",
    "        dW1, db1, dW2, db2 = back_prop(Z1, A1, Z2, A2, W1, W2, X, Y)\n",
    "        W1, b1, W2, b2 = update_params(W1, b1, W2, b2, dW1, db1, dW2, db2, alpha)\n",
    "        if i % 10 == 0:\n",
    "            print(\"Iteration: \", i)\n",
    "            predictions = get_predictions(A2)\n",
    "            print(get_accuracy(predictions, Y))\n",
    "    return W1, b1, W2, b2"
   ]
  },
  {
   "cell_type": "code",
   "execution_count": 15,
   "metadata": {
    "execution": {
     "iopub.execute_input": "2025-05-29T18:01:16.579273Z",
     "iopub.status.busy": "2025-05-29T18:01:16.578246Z",
     "iopub.status.idle": "2025-05-29T18:01:55.114100Z",
     "shell.execute_reply": "2025-05-29T18:01:55.113130Z",
     "shell.execute_reply.started": "2025-05-29T18:01:16.579235Z"
    },
    "trusted": true
   },
   "outputs": [
    {
     "name": "stdout",
     "output_type": "stream",
     "text": [
      "Iteration:  0\n",
      "[7 7 7 ... 7 7 7] [2 6 6 ... 8 8 2]\n",
      "0.1121219512195122\n",
      "Iteration:  10\n",
      "[2 2 2 ... 2 2 2] [2 6 6 ... 8 8 2]\n",
      "0.09919512195121952\n",
      "Iteration:  20\n",
      "[1 8 2 ... 1 1 2] [2 6 6 ... 8 8 2]\n",
      "0.24739024390243902\n",
      "Iteration:  30\n",
      "[3 8 2 ... 1 1 2] [2 6 6 ... 8 8 2]\n",
      "0.3659512195121951\n",
      "Iteration:  40\n",
      "[7 6 6 ... 3 3 2] [2 6 6 ... 8 8 2]\n",
      "0.5456585365853659\n",
      "Iteration:  50\n",
      "[7 6 6 ... 3 3 2] [2 6 6 ... 8 8 2]\n",
      "0.6024390243902439\n",
      "Iteration:  60\n",
      "[7 6 6 ... 3 8 2] [2 6 6 ... 8 8 2]\n",
      "0.636219512195122\n",
      "Iteration:  70\n",
      "[7 6 6 ... 3 3 2] [2 6 6 ... 8 8 2]\n",
      "0.6615853658536586\n",
      "Iteration:  80\n",
      "[7 6 6 ... 3 3 2] [2 6 6 ... 8 8 2]\n",
      "0.6714390243902439\n",
      "Iteration:  90\n",
      "[7 6 2 ... 8 8 2] [2 6 6 ... 8 8 2]\n",
      "0.6999268292682926\n",
      "Iteration:  100\n",
      "[7 6 6 ... 3 3 2] [2 6 6 ... 8 8 2]\n",
      "0.6638536585365854\n",
      "Iteration:  110\n",
      "[7 6 6 ... 3 3 2] [2 6 6 ... 8 8 2]\n",
      "0.7080487804878048\n",
      "Iteration:  120\n",
      "[7 6 6 ... 3 8 2] [2 6 6 ... 8 8 2]\n",
      "0.7263658536585366\n",
      "Iteration:  130\n",
      "[7 6 6 ... 8 8 2] [2 6 6 ... 8 8 2]\n",
      "0.7414878048780488\n",
      "Iteration:  140\n",
      "[7 6 2 ... 8 8 2] [2 6 6 ... 8 8 2]\n",
      "0.7486829268292683\n",
      "Iteration:  150\n",
      "[2 2 2 ... 8 8 2] [2 6 6 ... 8 8 2]\n",
      "0.6950975609756097\n",
      "Iteration:  160\n",
      "[7 6 2 ... 8 8 2] [2 6 6 ... 8 8 2]\n",
      "0.7472682926829268\n",
      "Iteration:  170\n",
      "[7 6 2 ... 8 8 2] [2 6 6 ... 8 8 2]\n",
      "0.7654878048780488\n",
      "Iteration:  180\n",
      "[7 6 2 ... 8 8 2] [2 6 6 ... 8 8 2]\n",
      "0.7709512195121951\n",
      "Iteration:  190\n",
      "[7 6 6 ... 5 5 2] [2 6 6 ... 8 8 2]\n",
      "0.7477073170731707\n",
      "Iteration:  200\n",
      "[7 6 6 ... 8 8 2] [2 6 6 ... 8 8 2]\n",
      "0.765219512195122\n",
      "Iteration:  210\n",
      "[7 6 6 ... 8 8 2] [2 6 6 ... 8 8 2]\n",
      "0.7657804878048781\n",
      "Iteration:  220\n",
      "[7 6 2 ... 8 8 2] [2 6 6 ... 8 8 2]\n",
      "0.759\n",
      "Iteration:  230\n",
      "[7 6 2 ... 8 8 2] [2 6 6 ... 8 8 2]\n",
      "0.7820975609756098\n",
      "Iteration:  240\n",
      "[7 6 2 ... 8 8 2] [2 6 6 ... 8 8 2]\n",
      "0.7808048780487805\n",
      "Iteration:  250\n",
      "[7 6 2 ... 8 8 2] [2 6 6 ... 8 8 2]\n",
      "0.7704146341463415\n",
      "Iteration:  260\n",
      "[7 6 6 ... 8 8 2] [2 6 6 ... 8 8 2]\n",
      "0.7910487804878049\n",
      "Iteration:  270\n",
      "[7 6 6 ... 8 8 2] [2 6 6 ... 8 8 2]\n",
      "0.7988536585365854\n",
      "Iteration:  280\n",
      "[7 6 6 ... 8 8 2] [2 6 6 ... 8 8 2]\n",
      "0.8001463414634147\n",
      "Iteration:  290\n",
      "[7 6 6 ... 8 8 2] [2 6 6 ... 8 8 2]\n",
      "0.7710975609756098\n",
      "Iteration:  300\n",
      "[7 6 6 ... 8 8 2] [2 6 6 ... 8 8 2]\n",
      "0.7478292682926829\n",
      "Iteration:  310\n",
      "[7 6 6 ... 8 8 2] [2 6 6 ... 8 8 2]\n",
      "0.8174146341463414\n",
      "Iteration:  320\n",
      "[7 6 6 ... 8 8 2] [2 6 6 ... 8 8 2]\n",
      "0.7993902439024391\n",
      "Iteration:  330\n",
      "[7 6 6 ... 8 8 2] [2 6 6 ... 8 8 2]\n",
      "0.8064146341463415\n",
      "Iteration:  340\n",
      "[7 6 6 ... 8 8 2] [2 6 6 ... 8 8 2]\n",
      "0.8106829268292683\n",
      "Iteration:  350\n",
      "[7 6 6 ... 8 8 2] [2 6 6 ... 8 8 2]\n",
      "0.8092439024390244\n",
      "Iteration:  360\n",
      "[7 6 2 ... 8 8 2] [2 6 6 ... 8 8 2]\n",
      "0.8037560975609757\n",
      "Iteration:  370\n",
      "[7 6 2 ... 8 8 2] [2 6 6 ... 8 8 2]\n",
      "0.8010243902439025\n",
      "Iteration:  380\n",
      "[7 6 2 ... 8 8 2] [2 6 6 ... 8 8 2]\n",
      "0.7898048780487805\n",
      "Iteration:  390\n",
      "[7 6 6 ... 8 8 2] [2 6 6 ... 8 8 2]\n",
      "0.8079512195121952\n",
      "Iteration:  400\n",
      "[7 6 6 ... 8 8 2] [2 6 6 ... 8 8 2]\n",
      "0.811609756097561\n",
      "Iteration:  410\n",
      "[7 6 6 ... 8 8 2] [2 6 6 ... 8 8 2]\n",
      "0.813780487804878\n",
      "Iteration:  420\n",
      "[7 6 6 ... 8 8 2] [2 6 6 ... 8 8 2]\n",
      "0.8153658536585365\n",
      "Iteration:  430\n",
      "[7 6 2 ... 8 8 2] [2 6 6 ... 8 8 2]\n",
      "0.8089024390243903\n",
      "Iteration:  440\n",
      "[7 6 2 ... 8 8 2] [2 6 6 ... 8 8 2]\n",
      "0.8028536585365854\n",
      "Iteration:  450\n",
      "[7 6 6 ... 8 8 2] [2 6 6 ... 8 8 2]\n",
      "0.7847560975609756\n",
      "Iteration:  460\n",
      "[7 6 6 ... 8 8 2] [2 6 6 ... 8 8 2]\n",
      "0.836390243902439\n",
      "Iteration:  470\n",
      "[7 6 6 ... 8 8 2] [2 6 6 ... 8 8 2]\n",
      "0.8115853658536586\n",
      "Iteration:  480\n",
      "[7 6 6 ... 8 8 2] [2 6 6 ... 8 8 2]\n",
      "0.8269756097560975\n",
      "Iteration:  490\n",
      "[7 6 6 ... 8 8 2] [2 6 6 ... 8 8 2]\n",
      "0.8224146341463414\n"
     ]
    }
   ],
   "source": [
    "W1, b1 , W2, b2 = gradient_descent(x_train,y_train,0.5,500)"
   ]
  },
  {
   "cell_type": "code",
   "execution_count": 16,
   "metadata": {
    "execution": {
     "iopub.execute_input": "2025-05-29T18:02:00.082960Z",
     "iopub.status.busy": "2025-05-29T18:02:00.082329Z",
     "iopub.status.idle": "2025-05-29T18:02:00.089256Z",
     "shell.execute_reply": "2025-05-29T18:02:00.088146Z",
     "shell.execute_reply.started": "2025-05-29T18:02:00.082927Z"
    },
    "trusted": true
   },
   "outputs": [],
   "source": [
    "def make_predictions(X, W1, b1, W2, b2):\n",
    "    _, _, _, A2 = forward_prop(W1, b1, W2, b2, X)\n",
    "    predictions = get_predictions(A2)\n",
    "    return predictions\n",
    "\n",
    "def test_prediction(index, W1, b1, W2, b2):\n",
    "    current_image = x_train[:, index, None]\n",
    "    prediction = make_predictions(x_train[:, index, None], W1, b1, W2, b2)\n",
    "    label = y_train[index]\n",
    "    print(\"Prediction: \", prediction)\n",
    "    print(\"Label: \", label)\n",
    "    \n",
    "    current_image = current_image.reshape((28, 28)) * 255\n",
    "    plt.gray()\n",
    "    plt.imshow(current_image, interpolation='nearest')\n",
    "    plt.show()"
   ]
  },
  {
   "cell_type": "code",
   "execution_count": 18,
   "metadata": {
    "execution": {
     "iopub.execute_input": "2025-05-29T18:02:05.684289Z",
     "iopub.status.busy": "2025-05-29T18:02:05.683838Z",
     "iopub.status.idle": "2025-05-29T18:02:06.209372Z",
     "shell.execute_reply": "2025-05-29T18:02:06.208552Z",
     "shell.execute_reply.started": "2025-05-29T18:02:05.684262Z"
    },
    "trusted": true
   },
   "outputs": [
    {
     "name": "stdout",
     "output_type": "stream",
     "text": [
      "Prediction:  [7]\n",
      "Label:  2\n"
     ]
    },
    {
     "data": {
      "image/png": "[encoded data removed]",
      "text/plain": [
       "<Figure size 640x480 with 1 Axes>"
      ]
     },
     "metadata": {},
     "output_type": "display_data"
    },
    {
     "name": "stdout",
     "output_type": "stream",
     "text": [
      "Prediction:  [6]\n",
      "Label:  6\n"
     ]
    },
    {
     "data": {
      "image/png": "[encoded data removed]",
      "text/plain": [
       "<Figure size 640x480 with 1 Axes>"
      ]
     },
     "metadata": {},
     "output_type": "display_data"
    },
    {
     "name": "stdout",
     "output_type": "stream",
     "text": [
      "Prediction:  [2]\n",
      "Label:  6\n"
     ]
    },
    {
     "data": {
      "image/png": "[encoded data removed]",
      "text/plain": [
       "<Figure size 640x480 with 1 Axes>"
      ]
     },
     "metadata": {},
     "output_type": "display_data"
    },
    {
     "name": "stdout",
     "output_type": "stream",
     "text": [
      "Prediction:  [7]\n",
      "Label:  7\n"
     ]
    },
    {
     "data": {
      "image/png": "[encoded data removed]",
      "text/plain": [
       "<Figure size 640x480 with 1 Axes>"
      ]
     },
     "metadata": {},
     "output_type": "display_data"
    }
   ],
   "source": [
    "test_prediction(0, W1, b1, W2, b2)\n",
    "test_prediction(1, W1, b1, W2, b2)\n",
    "test_prediction(2, W1, b1, W2, b2)\n",
    "test_prediction(3, W1, b1, W2, b2)"
   ]
  },
  {
   "cell_type": "code",
   "execution_count": 19,
   "metadata": {
    "execution": {
     "iopub.execute_input": "2025-05-29T18:02:16.251817Z",
     "iopub.status.busy": "2025-05-29T18:02:16.250947Z",
     "iopub.status.idle": "2025-05-29T18:02:16.827334Z",
     "shell.execute_reply": "2025-05-29T18:02:16.826550Z",
     "shell.execute_reply.started": "2025-05-29T18:02:16.251787Z"
    },
    "trusted": true
   },
   "outputs": [
    {
     "name": "stdout",
     "output_type": "stream",
     "text": [
      "Prediction:  [9]\n",
      "Label:  9\n"
     ]
    },
    {
     "data": {
      "image/png": "[encoded data removed]",
      "text/plain": [
       "<Figure size 640x480 with 1 Axes>"
      ]
     },
     "metadata": {},
     "output_type": "display_data"
    },
    {
     "name": "stdout",
     "output_type": "stream",
     "text": [
      "Prediction:  [4]\n",
      "Label:  4\n"
     ]
    },
    {
     "data": {
      "image/png": "[encoded data removed]",
      "text/plain": [
       "<Figure size 640x480 with 1 Axes>"
      ]
     },
     "metadata": {},
     "output_type": "display_data"
    },
    {
     "name": "stdout",
     "output_type": "stream",
     "text": [
      "Prediction:  [8]\n",
      "Label:  3\n"
     ]
    },
    {
     "data": {
      "image/png": "[encoded data removed]",
      "text/plain": [
       "<Figure size 640x480 with 1 Axes>"
      ]
     },
     "metadata": {},
     "output_type": "display_data"
    },
    {
     "name": "stdout",
     "output_type": "stream",
     "text": [
      "Prediction:  [0]\n",
      "Label:  0\n"
     ]
    },
    {
     "data": {
      "image/png": "[encoded data removed]",
      "text/plain": [
       "<Figure size 640x480 with 1 Axes>"
      ]
     },
     "metadata": {},
     "output_type": "display_data"
    }
   ],
   "source": [
    "test_prediction(5, W1, b1, W2, b2)\n",
    "test_prediction(6, W1, b1, W2, b2)\n",
    "test_prediction(7, W1, b1, W2, b2)\n",
    "test_prediction(8, W1, b1, W2, b2)\n"
   ]
  },
  {
   "cell_type": "code",
   "execution_count": null,
   "metadata": {
    "trusted": true
   },
   "outputs": [],
   "source": []
  }
 ],
 "metadata": {
  "kaggle": {
   "accelerator": "none",
   "dataSources": [
    {
     "datasetId": 3147,
     "sourceId": 5196,
     "sourceType": "datasetVersion"
    }
   ],
   "dockerImageVersionId": 31040,
   "isGpuEnabled": false,
   "isInternetEnabled": false,
   "language": "python",
   "sourceType": "notebook"
  },
  "kernelspec": {
   "display_name": "Python 3",
   "language": "python",
   "name": "python3"
  },
  "language_info": {
   "codemirror_mode": {
    "name": "ipython",
    "version": 3
   },
   "file_extension": ".py",
   "mimetype": "text/x-python",
   "name": "python",
   "nbconvert_exporter": "python",
   "pygments_lexer": "ipython3",
   "version": "3.11.11"
  }
 },
 "nbformat": 4,
 "nbformat_minor": 4
}
